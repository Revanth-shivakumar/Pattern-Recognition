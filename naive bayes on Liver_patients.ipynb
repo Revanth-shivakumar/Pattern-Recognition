{
  "nbformat": 4,
  "nbformat_minor": 0,
  "metadata": {
    "colab": {
      "name": "Simulation_assignment-part 2.ipynb",
      "provenance": [],
      "collapsed_sections": []
    },
    "kernelspec": {
      "name": "python3",
      "display_name": "Python 3"
    },
    "language_info": {
      "name": "python"
    }
  },
  "cells": [
    {
      "cell_type": "markdown",
      "metadata": {
        "id": "nI0oRnlKOFpz"
      },
      "source": [
        "Applying naive bayes classifier on **Indian_liver_patients dataset**"
      ]
    },
    {
      "cell_type": "code",
      "metadata": {
        "colab": {
          "base_uri": "https://localhost:8080/"
        },
        "id": "LVfbJ7wPPC9l",
        "outputId": "d9285c14-c2f7-4e09-b579-87da58624322"
      },
      "source": [
        "from google.colab import drive\n",
        "drive.mount(\"/content/gdrive\")"
      ],
      "execution_count": 2,
      "outputs": [
        {
          "output_type": "stream",
          "name": "stdout",
          "text": [
            "Mounted at /content/gdrive\n"
          ]
        }
      ]
    },
    {
      "cell_type": "code",
      "metadata": {
        "colab": {
          "base_uri": "https://localhost:8080/"
        },
        "id": "1FYlP334N-df",
        "outputId": "0c4b3b58-46f3-4dc9-a125-2098e8330ee6"
      },
      "source": [
        "import pandas as pd\n",
        "import numpy as np\n",
        "import matplotlib.pyplot as plt\n",
        "from sklearn.model_selection import train_test_split\n",
        "from sklearn.naive_bayes import GaussianNB\n",
        "liver=pd.read_csv('/content/gdrive/My Drive/datasets/indian_liver_patient.csv')\n",
        "liver[\"Albumin_and_Globulin_Ratio\"] = liver.Albumin_and_Globulin_Ratio.fillna(liver['Albumin_and_Globulin_Ratio'].mean())\n",
        "#filling NaN with mean value.... \n",
        "x=liver.drop(['Gender','Dataset'], axis=1)\n",
        "y=liver['Dataset']\n",
        "from sklearn.metrics import accuracy_score,confusion_matrix,precision_score,recall_score\n",
        "x_train,x_test,y_train,y_test=train_test_split(x,y,random_state=0)\n",
        "sol=GaussianNB()\n",
        "sol.fit(x_train,y_train)\n",
        "y_predict=sol.predict(x_test)\n",
        "print('Accuracy : %.2f'%accuracy_score(y_test,y_predict))\n",
        "print('Confusion matrix : \\n',confusion_matrix(y_test,y_predict))\n",
        "print('Precision_score : %.2f'%precision_score(y_test,y_predict,average='micro'))\n",
        "print('Recall_score : %.2f'%recall_score(y_test,y_predict,average='micro'))\n",
        "\n"
      ],
      "execution_count": 4,
      "outputs": [
        {
          "output_type": "stream",
          "name": "stdout",
          "text": [
            "Accuracy : 0.59\n",
            "Confusion matrix : \n",
            " [[40 60]\n",
            " [ 0 46]]\n",
            "Precision_score : 0.59\n",
            "Recall_score : 0.59\n"
          ]
        }
      ]
    }
  ]
}