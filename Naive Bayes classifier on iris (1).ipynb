{
  "nbformat": 4,
  "nbformat_minor": 0,
  "metadata": {
    "colab": {
      "name": "Simulation assignment part 1.ipynb",
      "provenance": [],
      "collapsed_sections": []
    },
    "kernelspec": {
      "name": "python3",
      "display_name": "Python 3"
    },
    "language_info": {
      "name": "python"
    }
  },
  "cells": [
    {
      "cell_type": "code",
      "metadata": {
        "colab": {
          "base_uri": "https://localhost:8080/"
        },
        "id": "tDs1ZbJSz1H1",
        "outputId": "3c7857e3-999c-4e9b-b920-9f27e23d6813"
      },
      "source": [
        "#importing necessary library\n",
        "from sklearn import datasets\n",
        "#for loading iris dataset\n",
        "import numpy as np\n",
        "import pandas as pd\n",
        "import matplotlib.pyplot as plt\n",
        "from sklearn.model_selection import train_test_split \n",
        "#to split training and testing data from the given dataset\n",
        "from sklearn.naive_bayes import GaussianNB \n",
        "#assuming that the given features are under gaussian distribution\n",
        "iris=datasets.load_iris() \n",
        "#a dictionary containing description and data as array is returned\n",
        "class_list=iris.target_names \n",
        "#storing class names in a list\n",
        "df=pd.DataFrame(iris.data,columns=iris.feature_names)\n",
        "df['class']=iris.target\n",
        "print(df)\n",
        "print(\"class names =\",iris.target_names)\n",
        "print(df.columns)\n"
      ],
      "execution_count": null,
      "outputs": [
        {
          "output_type": "stream",
          "name": "stdout",
          "text": [
            "     sepal length (cm)  sepal width (cm)  ...  petal width (cm)  class\n",
            "0                  5.1               3.5  ...               0.2      0\n",
            "1                  4.9               3.0  ...               0.2      0\n",
            "2                  4.7               3.2  ...               0.2      0\n",
            "3                  4.6               3.1  ...               0.2      0\n",
            "4                  5.0               3.6  ...               0.2      0\n",
            "..                 ...               ...  ...               ...    ...\n",
            "145                6.7               3.0  ...               2.3      2\n",
            "146                6.3               2.5  ...               1.9      2\n",
            "147                6.5               3.0  ...               2.0      2\n",
            "148                6.2               3.4  ...               2.3      2\n",
            "149                5.9               3.0  ...               1.8      2\n",
            "\n",
            "[150 rows x 5 columns]\n",
            "class names = ['setosa' 'versicolor' 'virginica']\n",
            "Index(['sepal length (cm)', 'sepal width (cm)', 'petal length (cm)',\n",
            "       'petal width (cm)', 'class'],\n",
            "      dtype='object')\n"
          ]
        }
      ]
    },
    {
      "cell_type": "markdown",
      "metadata": {
        "id": "wrohZ-Mp5XIy"
      },
      "source": [
        "class 0---->setosa\n",
        "----------\n",
        "class 1 ---->versicolor\n",
        "----\n",
        "class 2 ---->virginica\n",
        "----"
      ]
    },
    {
      "cell_type": "markdown",
      "metadata": {
        "id": "wgSgdRhU53Qu"
      },
      "source": [
        "# 1 feature\n",
        "feature taken: sepal length"
      ]
    },
    {
      "cell_type": "code",
      "metadata": {
        "colab": {
          "base_uri": "https://localhost:8080/"
        },
        "id": "IzI5I7j656ot",
        "outputId": "58e1a20a-bd06-4b73-990a-606aa9ce90bd"
      },
      "source": [
        "x_train,x_test,y_train,y_test=train_test_split(df[['sepal length (cm)']],df['class'],random_state=0)\n",
        "#splitting testing and training data\n",
        "sol=GaussianNB()\n",
        "sol.fit(x_train,y_train)\n",
        "feature_1_pred=sol.predict(x_test)\n",
        "from sklearn.metrics import accuracy_score,confusion_matrix,precision_score,recall_score\n",
        "print('Accuracy : %.2f'%accuracy_score(y_test,feature_1_pred))\n",
        "print('Confusion matrix : \\n',confusion_matrix(y_test,feature_1_pred))\n",
        "print('Precision_score : %.2f'%precision_score(y_test,feature_1_pred,average='micro'))\n",
        "print('Recall_score : %.2f'%recall_score(y_test,feature_1_pred,average='micro'))"
      ],
      "execution_count": null,
      "outputs": [
        {
          "output_type": "stream",
          "name": "stdout",
          "text": [
            "Accuracy : 0.63\n",
            "Confusion matrix : \n",
            " [[11  2  0]\n",
            " [ 3  9  4]\n",
            " [ 0  5  4]]\n",
            "Precision_score : 0.63\n",
            "Recall_score : 0.63\n"
          ]
        }
      ]
    },
    {
      "cell_type": "markdown",
      "metadata": {
        "id": "gMpg7f8Y_iqr"
      },
      "source": [
        "# 2 feature\n",
        "\n",
        "features taken : sepal_length,sepla_width"
      ]
    },
    {
      "cell_type": "code",
      "metadata": {
        "colab": {
          "base_uri": "https://localhost:8080/"
        },
        "id": "nTUpziA-_wg3",
        "outputId": "1c899ed8-0e6e-438a-e261-639debe39473"
      },
      "source": [
        "x_train,x_test,y_train,y_test=train_test_split(df[['sepal length (cm)','sepal width (cm)']],df['class'],random_state=0)\n",
        "#splitting testing and training data\n",
        "sol=GaussianNB()\n",
        "sol.fit(x_train,y_train)\n",
        "feature_2_pred=sol.predict(x_test)\n",
        "from sklearn.metrics import accuracy_score,confusion_matrix,precision_score,recall_score\n",
        "print('Accuracy : %.2f'%accuracy_score(y_test,feature_2_pred))\n",
        "print('Confusion matrix : \\n',confusion_matrix(y_test,feature_2_pred))\n",
        "print('Precision_score : %.2f'%precision_score(y_test,feature_2_pred,average='micro'))\n",
        "print('Recall_score : %.2f'%recall_score(y_test,feature_2_pred,average='micro'))"
      ],
      "execution_count": null,
      "outputs": [
        {
          "output_type": "stream",
          "name": "stdout",
          "text": [
            "Accuracy : 0.76\n",
            "Confusion matrix : \n",
            " [[13  0  0]\n",
            " [ 0 12  4]\n",
            " [ 0  5  4]]\n",
            "Precision_score : 0.76\n",
            "Recall_score : 0.76\n"
          ]
        }
      ]
    },
    {
      "cell_type": "markdown",
      "metadata": {
        "id": "CjdHZ3Hk_7MK"
      },
      "source": [
        ""
      ]
    },
    {
      "cell_type": "markdown",
      "metadata": {
        "id": "M7-QJlVp_7iF"
      },
      "source": [
        "# 3 feature\n",
        "\n",
        "features taken : sepal_length,sepla_width,petal length (cm)"
      ]
    },
    {
      "cell_type": "code",
      "metadata": {
        "colab": {
          "base_uri": "https://localhost:8080/"
        },
        "id": "Rlca-_kv_6u6",
        "outputId": "07b1bc30-9c48-45bb-eddd-60ffec3de0a4"
      },
      "source": [
        "x_train,x_test,y_train,y_test=train_test_split(df[['sepal length (cm)','sepal width (cm)','petal length (cm)']],df['class'],random_state=0)\n",
        "#splitting testing and training data\n",
        "sol=GaussianNB()\n",
        "sol.fit(x_train,y_train)\n",
        "feature_3_pred=sol.predict(x_test)\n",
        "from sklearn.metrics import accuracy_score,confusion_matrix,precision_score,recall_score\n",
        "print('Accuracy : %.2f'%accuracy_score(y_test,feature_3_pred))\n",
        "print('Confusion matrix : \\n',confusion_matrix(y_test,feature_3_pred))\n",
        "print('Precision_score : %.2f'%precision_score(y_test,feature_3_pred,average='micro'))\n",
        "print('Recall_score : %.2f'%recall_score(y_test,feature_3_pred,average='micro'))"
      ],
      "execution_count": null,
      "outputs": [
        {
          "output_type": "stream",
          "name": "stdout",
          "text": [
            "Accuracy : 0.87\n",
            "Confusion matrix : \n",
            " [[13  0  0]\n",
            " [ 0 13  3]\n",
            " [ 0  2  7]]\n",
            "Precision_score : 0.87\n",
            "Recall_score : 0.87\n"
          ]
        }
      ]
    },
    {
      "cell_type": "markdown",
      "metadata": {
        "id": "AQ_eCxHKAxQ-"
      },
      "source": [
        "# 4 feature\n",
        "\n",
        "features taken:all features"
      ]
    },
    {
      "cell_type": "code",
      "metadata": {
        "colab": {
          "base_uri": "https://localhost:8080/"
        },
        "id": "5rVe11ntAkQE",
        "outputId": "ab358b5b-41c0-4950-e9ef-addb05e81334"
      },
      "source": [
        "x_train,x_test,y_train,y_test=train_test_split(df[['sepal length (cm)','sepal width (cm)','petal length (cm)','petal width (cm)']],df['class'],random_state=0)\n",
        "#splitting testing and training data\n",
        "sol=GaussianNB()\n",
        "sol.fit(x_train,y_train)\n",
        "feature_4_pred=sol.predict(x_test)\n",
        "from sklearn.metrics import accuracy_score,confusion_matrix,precision_score,recall_score\n",
        "print('Accuracy : %.2f'%accuracy_score(y_test,feature_4_pred))\n",
        "print('Confusion matrix : \\n',confusion_matrix(y_test,feature_4_pred))\n",
        "print('Precision_score : %.2f'%precision_score(y_test,feature_4_pred,average='micro'))\n",
        "print('Recall_score : %.2f'%recall_score(y_test,feature_4_pred,average='micro'))"
      ],
      "execution_count": null,
      "outputs": [
        {
          "output_type": "stream",
          "name": "stdout",
          "text": [
            "Accuracy : 1.00\n",
            "Confusion matrix : \n",
            " [[13  0  0]\n",
            " [ 0 16  0]\n",
            " [ 0  0  9]]\n",
            "Precision_score : 1.00\n",
            "Recall_score : 1.00\n"
          ]
        }
      ]
    }
  ]
}